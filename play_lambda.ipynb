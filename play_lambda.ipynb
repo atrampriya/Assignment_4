{
 "cells": [
  {
   "cell_type": "code",
   "execution_count": 2,
   "id": "538a24ae",
   "metadata": {},
   "outputs": [
    {
     "name": "stdout",
     "output_type": "stream",
     "text": [
      "Given number passed in as an argument: 10\n",
      "35\n"
     ]
    }
   ],
   "source": [
    "a = lambda x: x + 25\n",
    "print(a(int(input(\"Given number passed in as an argument: \"))))"
   ]
  }
 ],
 "metadata": {
  "kernelspec": {
   "display_name": "Python 3 (ipykernel)",
   "language": "python",
   "name": "python3"
  },
  "language_info": {
   "codemirror_mode": {
    "name": "ipython",
    "version": 3
   },
   "file_extension": ".py",
   "mimetype": "text/x-python",
   "name": "python",
   "nbconvert_exporter": "python",
   "pygments_lexer": "ipython3",
   "version": "3.10.2"
  }
 },
 "nbformat": 4,
 "nbformat_minor": 5
}
